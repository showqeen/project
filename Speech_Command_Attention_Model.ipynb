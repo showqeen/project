{
  "nbformat": 4,
  "nbformat_minor": 0,
  "metadata": {
    "colab": {
      "name": "Speech_Command_Attention_Model.ipynb",
      "provenance": [],
      "collapsed_sections": [],
      "toc_visible": true,
      "include_colab_link": true
    },
    "kernelspec": {
      "name": "python3",
      "display_name": "Python 3"
    },
    "accelerator": "GPU"
  },
  "cells": [
    {
      "cell_type": "markdown",
      "metadata": {
        "id": "view-in-github",
        "colab_type": "text"
      },
      "source": [
        "<a href=\"https://colab.research.google.com/github/showqeen/project/blob/master/Speech_Command_Attention_Model.ipynb\" target=\"_parent\"><img src=\"https://colab.research.google.com/assets/colab-badge.svg\" alt=\"Open In Colab\"/></a>"
      ]
    },
    {
      "cell_type": "markdown",
      "metadata": {
        "id": "QhVqkp939Gsl"
      },
      "source": [
        "# Requirements"
      ]
    },
    {
      "cell_type": "code",
      "metadata": {
        "id": "fFYTqNlM8-ox",
        "colab": {
          "base_uri": "https://localhost:8080/"
        },
        "outputId": "f1495442-1dc8-4d07-a39c-e0d2962e46b2"
      },
      "source": [
        "%pip install kapre==0.1.7\n",
        "%pip install soundfile\n",
        "%pip install ffmpeg-python"
      ],
      "execution_count": 1,
      "outputs": [
        {
          "output_type": "stream",
          "text": [
            "Collecting kapre==0.1.7\n",
            "  Downloading https://files.pythonhosted.org/packages/76/c0/0fa10cd05a8368d5bd5381a4854b8f392cba924c8a5f1a9d8804c6d2376c/kapre-0.1.7.tar.gz\n",
            "Requirement already satisfied: numpy>=1.8.0 in /usr/local/lib/python3.6/dist-packages (from kapre==0.1.7) (1.19.5)\n",
            "Requirement already satisfied: librosa>=0.5 in /usr/local/lib/python3.6/dist-packages (from kapre==0.1.7) (0.8.0)\n",
            "Requirement already satisfied: tensorflow>=1.15 in /usr/local/lib/python3.6/dist-packages (from kapre==0.1.7) (2.4.1)\n",
            "Requirement already satisfied: scipy>=1.0.0 in /usr/local/lib/python3.6/dist-packages (from librosa>=0.5->kapre==0.1.7) (1.4.1)\n",
            "Requirement already satisfied: joblib>=0.14 in /usr/local/lib/python3.6/dist-packages (from librosa>=0.5->kapre==0.1.7) (1.0.0)\n",
            "Requirement already satisfied: audioread>=2.0.0 in /usr/local/lib/python3.6/dist-packages (from librosa>=0.5->kapre==0.1.7) (2.1.9)\n",
            "Requirement already satisfied: soundfile>=0.9.0 in /usr/local/lib/python3.6/dist-packages (from librosa>=0.5->kapre==0.1.7) (0.10.3.post1)\n",
            "Requirement already satisfied: resampy>=0.2.2 in /usr/local/lib/python3.6/dist-packages (from librosa>=0.5->kapre==0.1.7) (0.2.2)\n",
            "Requirement already satisfied: scikit-learn!=0.19.0,>=0.14.0 in /usr/local/lib/python3.6/dist-packages (from librosa>=0.5->kapre==0.1.7) (0.22.2.post1)\n",
            "Requirement already satisfied: numba>=0.43.0 in /usr/local/lib/python3.6/dist-packages (from librosa>=0.5->kapre==0.1.7) (0.51.2)\n",
            "Requirement already satisfied: pooch>=1.0 in /usr/local/lib/python3.6/dist-packages (from librosa>=0.5->kapre==0.1.7) (1.3.0)\n",
            "Requirement already satisfied: decorator>=3.0.0 in /usr/local/lib/python3.6/dist-packages (from librosa>=0.5->kapre==0.1.7) (4.4.2)\n",
            "Requirement already satisfied: typing-extensions~=3.7.4 in /usr/local/lib/python3.6/dist-packages (from tensorflow>=1.15->kapre==0.1.7) (3.7.4.3)\n",
            "Requirement already satisfied: gast==0.3.3 in /usr/local/lib/python3.6/dist-packages (from tensorflow>=1.15->kapre==0.1.7) (0.3.3)\n",
            "Requirement already satisfied: opt-einsum~=3.3.0 in /usr/local/lib/python3.6/dist-packages (from tensorflow>=1.15->kapre==0.1.7) (3.3.0)\n",
            "Requirement already satisfied: termcolor~=1.1.0 in /usr/local/lib/python3.6/dist-packages (from tensorflow>=1.15->kapre==0.1.7) (1.1.0)\n",
            "Requirement already satisfied: tensorflow-estimator<2.5.0,>=2.4.0 in /usr/local/lib/python3.6/dist-packages (from tensorflow>=1.15->kapre==0.1.7) (2.4.0)\n",
            "Requirement already satisfied: grpcio~=1.32.0 in /usr/local/lib/python3.6/dist-packages (from tensorflow>=1.15->kapre==0.1.7) (1.32.0)\n",
            "Requirement already satisfied: google-pasta~=0.2 in /usr/local/lib/python3.6/dist-packages (from tensorflow>=1.15->kapre==0.1.7) (0.2.0)\n",
            "Requirement already satisfied: wrapt~=1.12.1 in /usr/local/lib/python3.6/dist-packages (from tensorflow>=1.15->kapre==0.1.7) (1.12.1)\n",
            "Requirement already satisfied: protobuf>=3.9.2 in /usr/local/lib/python3.6/dist-packages (from tensorflow>=1.15->kapre==0.1.7) (3.12.4)\n",
            "Requirement already satisfied: six~=1.15.0 in /usr/local/lib/python3.6/dist-packages (from tensorflow>=1.15->kapre==0.1.7) (1.15.0)\n",
            "Requirement already satisfied: absl-py~=0.10 in /usr/local/lib/python3.6/dist-packages (from tensorflow>=1.15->kapre==0.1.7) (0.10.0)\n",
            "Requirement already satisfied: keras-preprocessing~=1.1.2 in /usr/local/lib/python3.6/dist-packages (from tensorflow>=1.15->kapre==0.1.7) (1.1.2)\n",
            "Requirement already satisfied: flatbuffers~=1.12.0 in /usr/local/lib/python3.6/dist-packages (from tensorflow>=1.15->kapre==0.1.7) (1.12)\n",
            "Requirement already satisfied: astunparse~=1.6.3 in /usr/local/lib/python3.6/dist-packages (from tensorflow>=1.15->kapre==0.1.7) (1.6.3)\n",
            "Requirement already satisfied: h5py~=2.10.0 in /usr/local/lib/python3.6/dist-packages (from tensorflow>=1.15->kapre==0.1.7) (2.10.0)\n",
            "Requirement already satisfied: wheel~=0.35 in /usr/local/lib/python3.6/dist-packages (from tensorflow>=1.15->kapre==0.1.7) (0.36.2)\n",
            "Requirement already satisfied: tensorboard~=2.4 in /usr/local/lib/python3.6/dist-packages (from tensorflow>=1.15->kapre==0.1.7) (2.4.1)\n",
            "Requirement already satisfied: cffi>=1.0 in /usr/local/lib/python3.6/dist-packages (from soundfile>=0.9.0->librosa>=0.5->kapre==0.1.7) (1.14.4)\n",
            "Requirement already satisfied: llvmlite<0.35,>=0.34.0.dev0 in /usr/local/lib/python3.6/dist-packages (from numba>=0.43.0->librosa>=0.5->kapre==0.1.7) (0.34.0)\n",
            "Requirement already satisfied: setuptools in /usr/local/lib/python3.6/dist-packages (from numba>=0.43.0->librosa>=0.5->kapre==0.1.7) (53.0.0)\n",
            "Requirement already satisfied: packaging in /usr/local/lib/python3.6/dist-packages (from pooch>=1.0->librosa>=0.5->kapre==0.1.7) (20.9)\n",
            "Requirement already satisfied: appdirs in /usr/local/lib/python3.6/dist-packages (from pooch>=1.0->librosa>=0.5->kapre==0.1.7) (1.4.4)\n",
            "Requirement already satisfied: requests in /usr/local/lib/python3.6/dist-packages (from pooch>=1.0->librosa>=0.5->kapre==0.1.7) (2.23.0)\n",
            "Requirement already satisfied: google-auth-oauthlib<0.5,>=0.4.1 in /usr/local/lib/python3.6/dist-packages (from tensorboard~=2.4->tensorflow>=1.15->kapre==0.1.7) (0.4.2)\n",
            "Requirement already satisfied: werkzeug>=0.11.15 in /usr/local/lib/python3.6/dist-packages (from tensorboard~=2.4->tensorflow>=1.15->kapre==0.1.7) (1.0.1)\n",
            "Requirement already satisfied: tensorboard-plugin-wit>=1.6.0 in /usr/local/lib/python3.6/dist-packages (from tensorboard~=2.4->tensorflow>=1.15->kapre==0.1.7) (1.8.0)\n",
            "Requirement already satisfied: google-auth<2,>=1.6.3 in /usr/local/lib/python3.6/dist-packages (from tensorboard~=2.4->tensorflow>=1.15->kapre==0.1.7) (1.24.0)\n",
            "Requirement already satisfied: markdown>=2.6.8 in /usr/local/lib/python3.6/dist-packages (from tensorboard~=2.4->tensorflow>=1.15->kapre==0.1.7) (3.3.3)\n",
            "Requirement already satisfied: pycparser in /usr/local/lib/python3.6/dist-packages (from cffi>=1.0->soundfile>=0.9.0->librosa>=0.5->kapre==0.1.7) (2.20)\n",
            "Requirement already satisfied: pyparsing>=2.0.2 in /usr/local/lib/python3.6/dist-packages (from packaging->pooch>=1.0->librosa>=0.5->kapre==0.1.7) (2.4.7)\n",
            "Requirement already satisfied: certifi>=2017.4.17 in /usr/local/lib/python3.6/dist-packages (from requests->pooch>=1.0->librosa>=0.5->kapre==0.1.7) (2020.12.5)\n",
            "Requirement already satisfied: chardet<4,>=3.0.2 in /usr/local/lib/python3.6/dist-packages (from requests->pooch>=1.0->librosa>=0.5->kapre==0.1.7) (3.0.4)\n",
            "Requirement already satisfied: urllib3!=1.25.0,!=1.25.1,<1.26,>=1.21.1 in /usr/local/lib/python3.6/dist-packages (from requests->pooch>=1.0->librosa>=0.5->kapre==0.1.7) (1.24.3)\n",
            "Requirement already satisfied: idna<3,>=2.5 in /usr/local/lib/python3.6/dist-packages (from requests->pooch>=1.0->librosa>=0.5->kapre==0.1.7) (2.10)\n",
            "Requirement already satisfied: requests-oauthlib>=0.7.0 in /usr/local/lib/python3.6/dist-packages (from google-auth-oauthlib<0.5,>=0.4.1->tensorboard~=2.4->tensorflow>=1.15->kapre==0.1.7) (1.3.0)\n",
            "Requirement already satisfied: rsa<5,>=3.1.4; python_version >= \"3.6\" in /usr/local/lib/python3.6/dist-packages (from google-auth<2,>=1.6.3->tensorboard~=2.4->tensorflow>=1.15->kapre==0.1.7) (4.7)\n",
            "Requirement already satisfied: cachetools<5.0,>=2.0.0 in /usr/local/lib/python3.6/dist-packages (from google-auth<2,>=1.6.3->tensorboard~=2.4->tensorflow>=1.15->kapre==0.1.7) (4.2.1)\n",
            "Requirement already satisfied: pyasn1-modules>=0.2.1 in /usr/local/lib/python3.6/dist-packages (from google-auth<2,>=1.6.3->tensorboard~=2.4->tensorflow>=1.15->kapre==0.1.7) (0.2.8)\n",
            "Requirement already satisfied: importlib-metadata; python_version < \"3.8\" in /usr/local/lib/python3.6/dist-packages (from markdown>=2.6.8->tensorboard~=2.4->tensorflow>=1.15->kapre==0.1.7) (3.4.0)\n",
            "Requirement already satisfied: oauthlib>=3.0.0 in /usr/local/lib/python3.6/dist-packages (from requests-oauthlib>=0.7.0->google-auth-oauthlib<0.5,>=0.4.1->tensorboard~=2.4->tensorflow>=1.15->kapre==0.1.7) (3.1.0)\n",
            "Requirement already satisfied: pyasn1>=0.1.3 in /usr/local/lib/python3.6/dist-packages (from rsa<5,>=3.1.4; python_version >= \"3.6\"->google-auth<2,>=1.6.3->tensorboard~=2.4->tensorflow>=1.15->kapre==0.1.7) (0.4.8)\n",
            "Requirement already satisfied: zipp>=0.5 in /usr/local/lib/python3.6/dist-packages (from importlib-metadata; python_version < \"3.8\"->markdown>=2.6.8->tensorboard~=2.4->tensorflow>=1.15->kapre==0.1.7) (3.4.0)\n",
            "Building wheels for collected packages: kapre\n",
            "  Building wheel for kapre (setup.py) ... \u001b[?25l\u001b[?25hdone\n",
            "  Created wheel for kapre: filename=kapre-0.1.7-cp36-none-any.whl size=11666 sha256=b07b829cf8df87a2bcb2fefc5ae1be1d37289412f081efaaf2cac175afa67a8a\n",
            "  Stored in directory: /root/.cache/pip/wheels/80/b0/36/f8ef462364784fcb1b7782e73ec59821162318ec28556516b6\n",
            "Successfully built kapre\n",
            "Installing collected packages: kapre\n",
            "  Found existing installation: kapre 0.1.3.1\n",
            "    Uninstalling kapre-0.1.3.1:\n",
            "      Successfully uninstalled kapre-0.1.3.1\n",
            "Successfully installed kapre-0.1.7\n",
            "Requirement already satisfied: soundfile in /usr/local/lib/python3.6/dist-packages (0.10.3.post1)\n",
            "Requirement already satisfied: cffi>=1.0 in /usr/local/lib/python3.6/dist-packages (from soundfile) (1.14.4)\n",
            "Requirement already satisfied: pycparser in /usr/local/lib/python3.6/dist-packages (from cffi>=1.0->soundfile) (2.20)\n",
            "Collecting ffmpeg-python\n",
            "  Downloading https://files.pythonhosted.org/packages/d7/0c/56be52741f75bad4dc6555991fabd2e07b432d333da82c11ad701123888a/ffmpeg_python-0.2.0-py3-none-any.whl\n",
            "Requirement already satisfied: future in /usr/local/lib/python3.6/dist-packages (from ffmpeg-python) (0.16.0)\n",
            "Installing collected packages: ffmpeg-python\n",
            "Successfully installed ffmpeg-python-0.2.0\n"
          ],
          "name": "stdout"
        }
      ]
    },
    {
      "cell_type": "code",
      "metadata": {
        "id": "aO6wf5nK9_Pn",
        "colab": {
          "base_uri": "https://localhost:8080/"
        },
        "outputId": "d7c39062-88aa-4999-ebdd-e62120fcdc88"
      },
      "source": [
        "from google.colab import drive\n",
        "drive.mount('/content/drive')"
      ],
      "execution_count": 2,
      "outputs": [
        {
          "output_type": "stream",
          "text": [
            "Mounted at /content/drive\n"
          ],
          "name": "stdout"
        }
      ]
    },
    {
      "cell_type": "code",
      "metadata": {
        "id": "ZiFZQ-l69NuV"
      },
      "source": [
        "import os\n",
        "import numpy as np\n",
        "import kapre\n",
        "import librosa\n",
        "import random\n",
        "import tensorflow as tf\n",
        "import soundfile as sf\n",
        "from tensorflow.keras import layers as L\n",
        "from tensorflow.keras.models import Sequential,Model\n",
        "from kapre.time_frequency import Melspectrogram\n",
        "from kapre.utils import Normalization2D\n",
        "from tensorflow.keras import backend as K\n",
        "from sklearn.model_selection import train_test_split"
      ],
      "execution_count": 3,
      "outputs": []
    },
    {
      "cell_type": "markdown",
      "metadata": {
        "id": "19F6-jMI9RUn"
      },
      "source": [
        "# Generate data"
      ]
    },
    {
      "cell_type": "code",
      "metadata": {
        "id": "5wLqc3oPC76v",
        "colab": {
          "base_uri": "https://localhost:8080/"
        },
        "outputId": "c014d758-9e49-4773-cdb6-2181aa03faa4"
      },
      "source": [
        "data_dir = '/content/drive/MyDrive/voice/'\n",
        "os.chdir(data_dir)\n",
        "\n",
        "data_x = []\n",
        "data_y = []\n",
        "for a,i in enumerate(['Back','forward','left','right','stop']):\n",
        "    lis = os.listdir(data_dir+i)\n",
        "    for j in lis:\n",
        "        l,sr = sf.read(data_dir+i+'/'+j)\n",
        "        #print(len(l))\n",
        "        #if(len(l)>=8000):\n",
        "        data_x.append(l[0:8000])\n",
        "        data_y.append(a)\n",
        "        #else:\n",
        "        #    print(i)\n",
        "    print(i,\" Done\")\n",
        "\n",
        "data_x = np.array(data_x)\n",
        "data_y = np.array(data_y)\n",
        "\n",
        "\n",
        "np.save('x.npy',data_x)\n",
        "np.save('y.npy',data_y)"
      ],
      "execution_count": 4,
      "outputs": [
        {
          "output_type": "stream",
          "text": [
            "Back  Done\n",
            "forward  Done\n",
            "left  Done\n",
            "right  Done\n",
            "stop  Done\n"
          ],
          "name": "stdout"
        },
        {
          "output_type": "stream",
          "text": [
            "/usr/local/lib/python3.6/dist-packages/ipykernel_launcher.py:18: VisibleDeprecationWarning: Creating an ndarray from ragged nested sequences (which is a list-or-tuple of lists-or-tuples-or ndarrays with different lengths or shapes) is deprecated. If you meant to do this, you must specify 'dtype=object' when creating the ndarray\n"
          ],
          "name": "stderr"
        }
      ]
    },
    {
      "cell_type": "markdown",
      "metadata": {
        "id": "zJ6iEPOQmnmx"
      },
      "source": [
        "# Splitting data into Train and Test"
      ]
    },
    {
      "cell_type": "code",
      "metadata": {
        "id": "qIuydKQt9gJm"
      },
      "source": [
        "from sklearn.model_selection import train_test_split\n",
        "import numpy as np\n",
        "np_load_old = np.load\n",
        "\n",
        "np.load = lambda *a,**k: np_load_old(*a, allow_pickle=True, **k)\n",
        "\n",
        "data_x = np.load('x.npy')\n",
        "data_y = np.load('y.npy')\n",
        "tr_x,te_x, tr_y,te_y = train_test_split(data_x,data_y,stratify=data_y,random_state=123,test_size=0.2)\n",
        "np.load = np_load_old"
      ],
      "execution_count": 5,
      "outputs": []
    },
    {
      "cell_type": "code",
      "metadata": {
        "id": "NZrT1E4Vl4A0",
        "colab": {
          "base_uri": "https://localhost:8080/"
        },
        "outputId": "7e9c68a6-c69f-461d-d6cb-326fe38b132f"
      },
      "source": [
        "data_x.shape"
      ],
      "execution_count": 6,
      "outputs": [
        {
          "output_type": "execute_result",
          "data": {
            "text/plain": [
              "(400,)"
            ]
          },
          "metadata": {
            "tags": []
          },
          "execution_count": 6
        }
      ]
    },
    {
      "cell_type": "code",
      "metadata": {
        "id": "vGDq556K9jvh"
      },
      "source": [
        "x_train = []\n",
        "y_train = []\n",
        "for i,j in enumerate(tr_x):\n",
        "    x= len(j)\n",
        "    p = 25000-x\n",
        "    for y in range(1 ,p, 500):\n",
        "        nx = np.zeros(25000)\n",
        "        nx[y:y+x] =j\n",
        "        x_train.append(nx)\n",
        "        y_train.append(tr_y[i])\n",
        "x_train = np.array(x_train)\n",
        "y_train = np.array(y_train)\n",
        "\n",
        "x_test = []\n",
        "y_test = []\n",
        "for i,j in enumerate(te_x):\n",
        "    x= len(j)\n",
        "    p = 25000-x\n",
        "    for y in range(1 ,p, 500):\n",
        "        nx = np.zeros(25000)\n",
        "        nx[y:y+x] =j\n",
        "        x_test.append(nx)\n",
        "        y_test.append(te_y[i])\n",
        "x_test = np.array(x_test)\n",
        "y_test = np.array(y_test)\n",
        "\n",
        "np.save('x_train.npy',x_train)\n",
        "np.save('y_train.npy',y_train)\n",
        "np.save('x_test.npy',x_test)\n",
        "np.save('y_test.npy',y_test)"
      ],
      "execution_count": 7,
      "outputs": []
    },
    {
      "cell_type": "markdown",
      "metadata": {
        "id": "NMkAeCdz9zfb"
      },
      "source": [
        "# Extract Features"
      ]
    },
    {
      "cell_type": "code",
      "metadata": {
        "id": "iliXCwWk9w_C"
      },
      "source": [
        "mfcc = Sequential()\n",
        "mfcc.add(L.Reshape((1, -1)))\n",
        "mfcc.add(Melspectrogram(padding='same', sr=16000, n_mels=39, n_dft = 1024,\n",
        "                        power_melgram=2.0, return_decibel_melgram=True,\n",
        "                        trainable_fb=False, trainable_kernel=False,\n",
        "                        name='mel_stft'))\n",
        "mfcc.add(Normalization2D(str_axis='freq'))\n",
        "mfcc.add(L.Permute((2, 1, 3)))\n",
        "\n",
        "x_train = mfcc.predict(x_train)\n",
        "x_train.shape\n",
        "\n",
        "x_test = mfcc.predict(x_test)\n",
        "x_test.shape\n",
        "\n",
        "np.save('mfcc_train.npy',x_train)\n",
        "np.save('mfcc_test.npy',x_test)"
      ],
      "execution_count": 8,
      "outputs": []
    },
    {
      "cell_type": "markdown",
      "metadata": {
        "id": "YBXWnYPd9nRh"
      },
      "source": [
        "# Loading data"
      ]
    },
    {
      "cell_type": "code",
      "metadata": {
        "id": "w4MDYtrH9pnA"
      },
      "source": [
        "# Change the directory \n",
        "data_dir = '/content/drive/MyDrive/voice'\n",
        "os.chdir(data_dir)\n",
        "x_train = np.load('mfcc_train.npy')\n",
        "y_train = np.load('y_train.npy')\n",
        "x_test = np.load('mfcc_test.npy')\n",
        "y_test = np.load('y_test.npy')"
      ],
      "execution_count": 9,
      "outputs": []
    },
    {
      "cell_type": "markdown",
      "metadata": {
        "id": "xpKZzwTB9-hD"
      },
      "source": [
        "# Model"
      ]
    },
    {
      "cell_type": "code",
      "metadata": {
        "id": "E0J9Xu9uQv5H"
      },
      "source": [
        "# https://github.com/douglas125/SpeechCmdRecognition/blob/master/SpeechModels.py\n",
        "\n",
        "os.environ['PYTHONHASHSEED']='123'\n",
        "np.random.seed(123)\n",
        "random.seed(123)\n",
        "tf.random.set_seed(123)\n",
        "\n",
        "def AttentionModel(sr=16000, iLen=25000):\n",
        "    \n",
        "    inputs = L.Input(x_train.shape[1:], name='Input')\n",
        "\n",
        "    x = L.Conv2D(10, (5, 1), activation='relu', padding='same', name='Conv1')(inputs)\n",
        "    x = L.BatchNormalization(name='BN1')(x)\n",
        "    x = L.Conv2D(1, (5, 1), activation='relu', padding='same', name='Conv2')(x)\n",
        "    x = L.BatchNormalization(name='BN2')(x)\n",
        "\n",
        "    x = L.Reshape(x.shape[1:-1],name='Squeeze')(x)\n",
        "\n",
        "    n_units = 64\n",
        "    x = L.LSTM(n_units, return_sequences=True, name='LSTM_Sequences')(x)  \n",
        "\n",
        "    # Calculate Unit Importance\n",
        "    xLast = L.Lambda(lambda q: q[:, -1], name='FinalSequence')(x)  # [b_s, vec_dim]\n",
        "    xLast = L.Dense(xLast.shape[-1], name='UnitImportance')(xLast)\n",
        "\n",
        "    # Calculate attention\n",
        "    attScores = L.Dot(axes=[1, 2],name='AttentionScores')([xLast, x])\n",
        "    attScores = L.Softmax(name='AttentionSoftmax')(attScores)  \n",
        "\n",
        "    x = L.Dot(axes=[1, 1], name='AttentionVector')([attScores, x])  \n",
        "    x = L.Dense(32, activation='relu', name='FC')(x)\n",
        "    outputs = L.Dense(5, activation='softmax', name='Output')(x)\n",
        "    model = Model(inputs=[inputs], outputs=[outputs], name='Attention')\n",
        "\n",
        "    return model\n",
        "\n",
        "model = AttentionModel()\n",
        "model.compile(optimizer=tf.keras.optimizers.Adam(), loss=['sparse_categorical_crossentropy'], metrics=['sparse_categorical_accuracy'])"
      ],
      "execution_count": 10,
      "outputs": []
    },
    {
      "cell_type": "code",
      "metadata": {
        "id": "ocATdYnyvPgQ",
        "colab": {
          "base_uri": "https://localhost:8080/"
        },
        "outputId": "f649851c-2985-4bd8-9dbd-12524263ec96"
      },
      "source": [
        "model.summary()"
      ],
      "execution_count": 11,
      "outputs": [
        {
          "output_type": "stream",
          "text": [
            "Model: \"Attention\"\n",
            "__________________________________________________________________________________________________\n",
            "Layer (type)                    Output Shape         Param #     Connected to                     \n",
            "==================================================================================================\n",
            "Input (InputLayer)              [(None, 49, 39, 1)]  0                                            \n",
            "__________________________________________________________________________________________________\n",
            "Conv1 (Conv2D)                  (None, 49, 39, 10)   60          Input[0][0]                      \n",
            "__________________________________________________________________________________________________\n",
            "BN1 (BatchNormalization)        (None, 49, 39, 10)   40          Conv1[0][0]                      \n",
            "__________________________________________________________________________________________________\n",
            "Conv2 (Conv2D)                  (None, 49, 39, 1)    51          BN1[0][0]                        \n",
            "__________________________________________________________________________________________________\n",
            "BN2 (BatchNormalization)        (None, 49, 39, 1)    4           Conv2[0][0]                      \n",
            "__________________________________________________________________________________________________\n",
            "Squeeze (Reshape)               (None, 49, 39)       0           BN2[0][0]                        \n",
            "__________________________________________________________________________________________________\n",
            "LSTM_Sequences (LSTM)           (None, 49, 64)       26624       Squeeze[0][0]                    \n",
            "__________________________________________________________________________________________________\n",
            "FinalSequence (Lambda)          (None, 64)           0           LSTM_Sequences[0][0]             \n",
            "__________________________________________________________________________________________________\n",
            "UnitImportance (Dense)          (None, 64)           4160        FinalSequence[0][0]              \n",
            "__________________________________________________________________________________________________\n",
            "AttentionScores (Dot)           (None, 49)           0           UnitImportance[0][0]             \n",
            "                                                                 LSTM_Sequences[0][0]             \n",
            "__________________________________________________________________________________________________\n",
            "AttentionSoftmax (Softmax)      (None, 49)           0           AttentionScores[0][0]            \n",
            "__________________________________________________________________________________________________\n",
            "AttentionVector (Dot)           (None, 64)           0           AttentionSoftmax[0][0]           \n",
            "                                                                 LSTM_Sequences[0][0]             \n",
            "__________________________________________________________________________________________________\n",
            "FC (Dense)                      (None, 32)           2080        AttentionVector[0][0]            \n",
            "__________________________________________________________________________________________________\n",
            "Output (Dense)                  (None, 5)            165         FC[0][0]                         \n",
            "==================================================================================================\n",
            "Total params: 33,184\n",
            "Trainable params: 33,162\n",
            "Non-trainable params: 22\n",
            "__________________________________________________________________________________________________\n"
          ],
          "name": "stdout"
        }
      ]
    },
    {
      "cell_type": "markdown",
      "metadata": {
        "id": "JcO8GwG1-iI6"
      },
      "source": [
        "# Train Model"
      ]
    },
    {
      "cell_type": "code",
      "metadata": {
        "id": "76JMIwOXv8iu",
        "colab": {
          "base_uri": "https://localhost:8080/"
        },
        "outputId": "5df6b0a2-4e4d-4703-e73d-9a02d58c9c11"
      },
      "source": [
        "#model.fit(x_train,y_train,validation_data=(x_test,y_test),verbose=1,epochs=5,shuffle=True,batch_size=15)\n",
        "model.fit(x_train,y_train,validation_data=(x_test,y_test),verbose=1,epochs=15,shuffle=True,batch_size=20)"
      ],
      "execution_count": 12,
      "outputs": [
        {
          "output_type": "stream",
          "text": [
            "Epoch 1/15\n",
            "584/584 [==============================] - 8s 9ms/step - loss: 0.4922 - sparse_categorical_accuracy: 0.8403 - val_loss: 0.0147 - val_sparse_categorical_accuracy: 0.9986\n",
            "Epoch 2/15\n",
            "584/584 [==============================] - 4s 7ms/step - loss: 0.0014 - sparse_categorical_accuracy: 0.9999 - val_loss: 0.0041 - val_sparse_categorical_accuracy: 0.9997\n",
            "Epoch 3/15\n",
            "584/584 [==============================] - 4s 7ms/step - loss: 3.8186e-04 - sparse_categorical_accuracy: 1.0000 - val_loss: 0.0025 - val_sparse_categorical_accuracy: 0.9997\n",
            "Epoch 4/15\n",
            "584/584 [==============================] - 4s 7ms/step - loss: 1.5707e-04 - sparse_categorical_accuracy: 1.0000 - val_loss: 0.0026 - val_sparse_categorical_accuracy: 0.9997\n",
            "Epoch 5/15\n",
            "584/584 [==============================] - 4s 7ms/step - loss: 8.3201e-05 - sparse_categorical_accuracy: 1.0000 - val_loss: 0.0021 - val_sparse_categorical_accuracy: 0.9997\n",
            "Epoch 6/15\n",
            "584/584 [==============================] - 4s 7ms/step - loss: 5.3136e-05 - sparse_categorical_accuracy: 1.0000 - val_loss: 0.0017 - val_sparse_categorical_accuracy: 0.9997\n",
            "Epoch 7/15\n",
            "584/584 [==============================] - 4s 7ms/step - loss: 3.0962e-05 - sparse_categorical_accuracy: 1.0000 - val_loss: 0.0011 - val_sparse_categorical_accuracy: 0.9997\n",
            "Epoch 8/15\n",
            "584/584 [==============================] - 4s 7ms/step - loss: 2.0994e-05 - sparse_categorical_accuracy: 1.0000 - val_loss: 0.0010 - val_sparse_categorical_accuracy: 0.9997\n",
            "Epoch 9/15\n",
            "584/584 [==============================] - 4s 6ms/step - loss: 1.3368e-05 - sparse_categorical_accuracy: 1.0000 - val_loss: 0.0012 - val_sparse_categorical_accuracy: 0.9997\n",
            "Epoch 10/15\n",
            "584/584 [==============================] - 4s 6ms/step - loss: 9.2130e-06 - sparse_categorical_accuracy: 1.0000 - val_loss: 0.0012 - val_sparse_categorical_accuracy: 0.9997\n",
            "Epoch 11/15\n",
            "584/584 [==============================] - 4s 6ms/step - loss: 6.1256e-06 - sparse_categorical_accuracy: 1.0000 - val_loss: 0.0012 - val_sparse_categorical_accuracy: 0.9997\n",
            "Epoch 12/15\n",
            "584/584 [==============================] - 4s 6ms/step - loss: 4.5002e-06 - sparse_categorical_accuracy: 1.0000 - val_loss: 0.0013 - val_sparse_categorical_accuracy: 0.9997\n",
            "Epoch 13/15\n",
            "584/584 [==============================] - 4s 6ms/step - loss: 3.2006e-06 - sparse_categorical_accuracy: 1.0000 - val_loss: 2.7794e-04 - val_sparse_categorical_accuracy: 1.0000\n",
            "Epoch 14/15\n",
            "584/584 [==============================] - 4s 6ms/step - loss: 2.2141e-06 - sparse_categorical_accuracy: 1.0000 - val_loss: 6.3631e-04 - val_sparse_categorical_accuracy: 1.0000\n",
            "Epoch 15/15\n",
            "584/584 [==============================] - 4s 6ms/step - loss: 1.5745e-06 - sparse_categorical_accuracy: 1.0000 - val_loss: 0.0015 - val_sparse_categorical_accuracy: 0.9997\n"
          ],
          "name": "stdout"
        },
        {
          "output_type": "execute_result",
          "data": {
            "text/plain": [
              "<tensorflow.python.keras.callbacks.History at 0x7fc8301cb9b0>"
            ]
          },
          "metadata": {
            "tags": []
          },
          "execution_count": 12
        }
      ]
    },
    {
      "cell_type": "markdown",
      "metadata": {
        "id": "783GkaEy_DHP"
      },
      "source": [
        "# Check attention"
      ]
    },
    {
      "cell_type": "code",
      "metadata": {
        "id": "9XFFu3TQCeic",
        "colab": {
          "base_uri": "https://localhost:8080/",
          "height": 1000
        },
        "outputId": "b2b3d261-296b-476c-c759-3a5fcb26b602"
      },
      "source": [
        "from matplotlib import pyplot as plt\n",
        "model2 = Model(inputs=model.input, outputs=[model.get_layer('Output').output, \n",
        "                                            model.get_layer('AttentionSoftmax').output])\n",
        "data_dir = '/content/drive/MyDrive/voice'\n",
        "os.chdir(data_dir)\n",
        "a,b = model2.predict(x_test)\n",
        "xx_test = np.load('x_test.npy')\n",
        "for aid in range(0,100,18):\n",
        "    plt.plot(range(len(b[aid])), np.log(b[aid]))\n",
        "    plt.show()\n",
        "    plt.plot(range(len(xx_test[aid])),xx_test[aid])\n",
        "    plt.show()"
      ],
      "execution_count": 13,
      "outputs": [
        {
          "output_type": "display_data",
          "data": {
            "image/png": "[encoded data removed]",
            "text/plain": [
              "<Figure size 432x288 with 1 Axes>"
            ]
          },
          "metadata": {
            "tags": [],
            "needs_background": "light"
          }
        },
        {
          "output_type": "display_data",
          "data": {
            "image/png": "[encoded data removed]",
            "text/plain": [
              "<Figure size 432x288 with 1 Axes>"
            ]
          },
          "metadata": {
            "tags": [],
            "needs_background": "light"
          }
        },
        {
          "output_type": "display_data",
          "data": {
            "image/png": "[encoded data removed]",
            "text/plain": [
              "<Figure size 432x288 with 1 Axes>"
            ]
          },
          "metadata": {
            "tags": [],
            "needs_background": "light"
          }
        },
        {
          "output_type": "display_data",
          "data": {
            "image/png": "[encoded data removed]",
            "text/plain": [
              "<Figure size 432x288 with 1 Axes>"
            ]
          },
          "metadata": {
            "tags": [],
            "needs_background": "light"
          }
        },
        {
          "output_type": "display_data",
          "data": {
            "image/png": "[encoded data removed]",
            "text/plain": [
              "<Figure size 432x288 with 1 Axes>"
            ]
          },
          "metadata": {
            "tags": [],
            "needs_background": "light"
          }
        },
        {
          "output_type": "display_data",
          "data": {
            "image/png": "[encoded data removed]",
            "text/plain": [
              "<Figure size 432x288 with 1 Axes>"
            ]
          },
          "metadata": {
            "tags": [],
            "needs_background": "light"
          }
        },
        {
          "output_type": "display_data",
          "data": {
            "image/png": "[encoded data removed]",
            "text/plain": [
              "<Figure size 432x288 with 1 Axes>"
            ]
          },
          "metadata": {
            "tags": [],
            "needs_background": "light"
          }
        },
        {
          "output_type": "display_data",
          "data": {
            "image/png": "[encoded data removed]",
            "text/plain": [
              "<Figure size 432x288 with 1 Axes>"
            ]
          },
          "metadata": {
            "tags": [],
            "needs_background": "light"
          }
        },
        {
          "output_type": "display_data",
          "data": {
            "image/png": "[encoded data removed]",
            "text/plain": [
              "<Figure size 432x288 with 1 Axes>"
            ]
          },
          "metadata": {
            "tags": [],
            "needs_background": "light"
          }
        },
        {
          "output_type": "display_data",
          "data": {
            "image/png": "[encoded data removed]",
            "text/plain": [
              "<Figure size 432x288 with 1 Axes>"
            ]
          },
          "metadata": {
            "tags": [],
            "needs_background": "light"
          }
        },
        {
          "output_type": "display_data",
          "data": {
            "image/png": "[encoded data removed]",
            "text/plain": [
              "<Figure size 432x288 with 1 Axes>"
            ]
          },
          "metadata": {
            "tags": [],
            "needs_background": "light"
          }
        },
        {
          "output_type": "display_data",
          "data": {
            "image/png": "[encoded data removed]",
            "text/plain": [
              "<Figure size 432x288 with 1 Axes>"
            ]
          },
          "metadata": {
            "tags": [],
            "needs_background": "light"
          }
        }
      ]
    },
    {
      "cell_type": "markdown",
      "metadata": {
        "id": "x4EU63QJnZZ9"
      },
      "source": [
        "**SAVE MODEL**\r\n",
        "\r\n"
      ]
    },
    {
      "cell_type": "markdown",
      "metadata": {
        "id": "xk9u9Y-onZPk"
      },
      "source": [
        ""
      ]
    },
    {
      "cell_type": "code",
      "metadata": {
        "id": "TyTFDOv5mxKA"
      },
      "source": [
        "data_dir = '/content/drive/MyDrive/voice'\r\n",
        "os.chdir(data_dir)\r\n",
        "model.save('model.h5')"
      ],
      "execution_count": 14,
      "outputs": []
    },
    {
      "cell_type": "markdown",
      "metadata": {
        "id": "W4F3BclFo5uK"
      },
      "source": [
        "**TEST MODEL**"
      ]
    },
    {
      "cell_type": "code",
      "metadata": {
        "id": "mO5PoURnol_Z"
      },
      "source": [
        "# all imports\r\n",
        "from IPython.display import Javascript\r\n",
        "from google.colab import output\r\n",
        "from base64 import b64decode\r\n",
        "import ffmpeg\r\n",
        " \r\n",
        "RECORD = \"\"\"\r\n",
        "const sleep  = time => new Promise(resolve => setTimeout(resolve, time))\r\n",
        "const b2text = blob => new Promise(resolve => {\r\n",
        "  const reader = new FileReader()\r\n",
        "  reader.onloadend = e => resolve(e.srcElement.result)\r\n",
        "  reader.readAsDataURL(blob)\r\n",
        "})\r\n",
        "var record = time => new Promise(async resolve => {\r\n",
        "  stream = await navigator.mediaDevices.getUserMedia({ audio: true })\r\n",
        "  recorder = new MediaRecorder(stream)\r\n",
        "  chunks = []\r\n",
        "  recorder.ondataavailable = e => chunks.push(e.data)\r\n",
        "  recorder.start()\r\n",
        "  await sleep(time)\r\n",
        "  recorder.onstop = async ()=>{\r\n",
        "    blob = new Blob(chunks)\r\n",
        "    text = await b2text(blob)\r\n",
        "    resolve(text)\r\n",
        "  }\r\n",
        "  recorder.stop()\r\n",
        "})\r\n",
        "\"\"\"\r\n",
        " \r\n",
        "def record(sec=1, path='audio.wav'):\r\n",
        "  display(Javascript(RECORD))\r\n",
        "  s = output.eval_js('record(%d)' % (sec*1000))\r\n",
        "  b = b64decode(s.split(',')[1])\r\n",
        "  process = (ffmpeg\r\n",
        "    .input('pipe:0')\r\n",
        "    .output(path, format='wav', ac=1, ar=16000)\r\n",
        "    .run_async(pipe_stdin=True, pipe_stdout=True, pipe_stderr=True, quiet=True, overwrite_output=True)\r\n",
        "  )\r\n",
        "  process.communicate(input=b)"
      ],
      "execution_count": 15,
      "outputs": []
    },
    {
      "cell_type": "markdown",
      "metadata": {
        "id": "wpmN9fdopJ5J"
      },
      "source": [
        "**Instructions:**\r\n",
        "\r\n",
        "**1.Locate the folder where you save your model.h5 file.**\r\n",
        "\r\n",
        "**2.Start speaking when you see mike in the bottom right pane** **of the task bar or see red blinking dot in the title bar.**\r\n",
        "\r\n",
        "**3. If still facing some error try to set the mike recorder****time in the previous record function up to 3 sec**\r\n",
        "\r\n"
      ]
    },
    {
      "cell_type": "code",
      "metadata": {
        "id": "oOdtkuEcpMGQ",
        "colab": {
          "base_uri": "https://localhost:8080/",
          "height": 34
        },
        "outputId": "08b3fd30-10fa-425c-9f13-3430d117941a"
      },
      "source": [
        "\r\n",
        "from tensorflow import keras\r\n",
        "import soundfile as sf\r\n",
        "import numpy as np\r\n",
        " \r\n",
        "rootPath = '/content/drive/MyDrive/voice'\r\n",
        "model = keras.models.load_model(rootPath + '/model.h5')\r\n",
        "record(path=rootPath + '/testfile.wav')\r\n",
        "l = sf.read(rootPath + '/testfile.wav')[0]\r\n",
        "l = l[0:16000]\r\n",
        "x = len(l)\r\n",
        "p = 25000-x\r\n",
        "nx = np.zeros(25000)\r\n",
        "for y in range(1 ,p, 500):\r\n",
        "    nx[y:y+x] = l\r\n",
        "nx = nx.reshape([1, len(nx)])\r\n",
        " \r\n",
        "mfcc = Sequential()\r\n",
        "mfcc.add(L.Reshape((1, -1)))\r\n",
        "mfcc.add(Melspectrogram(padding='same', sr=16000, n_mels=39, n_dft = 1024,\r\n",
        "                        power_melgram=2.0, return_decibel_melgram=True,\r\n",
        "                        trainable_fb=False, trainable_kernel=False,\r\n",
        "                        name='mel_stft'))\r\n",
        "mfcc.add(Normalization2D(str_axis='freq'))\r\n",
        "mfcc.add(L.Permute((2, 1, 3)))\r\n",
        " \r\n",
        "nx = mfcc.predict(nx)\r\n",
        " \r\n",
        "y = model.predict(nx)[0]\r\n",
        "y = np.argmax(y)\r\n",
        "words = ['forward','back', 'left', 'right', 'stop']\r\n",
        "print (words [y])"
      ],
      "execution_count": 16,
      "outputs": [
        {
          "output_type": "display_data",
          "data": {
            "application/javascript": [
              "\n",
              "const sleep  = time => new Promise(resolve => setTimeout(resolve, time))\n",
              "const b2text = blob => new Promise(resolve => {\n",
              "  const reader = new FileReader()\n",
              "  reader.onloadend = e => resolve(e.srcElement.result)\n",
              "  reader.readAsDataURL(blob)\n",
              "})\n",
              "var record = time => new Promise(async resolve => {\n",
              "  stream = await navigator.mediaDevices.getUserMedia({ audio: true })\n",
              "  recorder = new MediaRecorder(stream)\n",
              "  chunks = []\n",
              "  recorder.ondataavailable = e => chunks.push(e.data)\n",
              "  recorder.start()\n",
              "  await sleep(time)\n",
              "  recorder.onstop = async ()=>{\n",
              "    blob = new Blob(chunks)\n",
              "    text = await b2text(blob)\n",
              "    resolve(text)\n",
              "  }\n",
              "  recorder.stop()\n",
              "})\n"
            ],
            "text/plain": [
              "<IPython.core.display.Javascript object>"
            ]
          },
          "metadata": {
            "tags": []
          }
        },
        {
          "output_type": "stream",
          "text": [
            "forward\n"
          ],
          "name": "stdout"
        }
      ]
    }
  ]
}