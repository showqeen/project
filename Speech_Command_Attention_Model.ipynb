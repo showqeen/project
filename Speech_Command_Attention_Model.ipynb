{
  "nbformat": 4,
  "nbformat_minor": 0,
  "metadata": {
    "colab": {
      "name": "Speech-Command-Attention_Model.ipynb",
      "provenance": [],
      "collapsed_sections": [],
      "toc_visible": true
    },
    "kernelspec": {
      "name": "python3",
      "display_name": "Python 3"
    },
    "accelerator": "GPU"
  },
  "cells": [
    {
      "cell_type": "markdown",
      "metadata": {
        "id": "QhVqkp939Gsl"
      },
      "source": [
        "# Requirements"
      ]
    },
    {
      "cell_type": "code",
      "metadata": {
        "id": "fFYTqNlM8-ox",
        "colab": {
          "base_uri": "https://localhost:8080/"
        },
        "outputId": "f0930491-ee78-4222-b05b-7dfd09dd5a1e"
      },
      "source": [
        "%pip install kapre==0.1.7\n",
        "%pip install soundfile\n",
        "%pip install ffmpeg-python"
      ],
      "execution_count": 29,
      "outputs": [
        {
          "output_type": "stream",
          "text": [
            "Requirement already satisfied: kapre==0.1.7 in /usr/local/lib/python3.6/dist-packages (0.1.7)\n",
            "Requirement already satisfied: librosa>=0.5 in /usr/local/lib/python3.6/dist-packages (from kapre==0.1.7) (0.8.0)\n",
            "Requirement already satisfied: tensorflow>=1.15 in /usr/local/lib/python3.6/dist-packages (from kapre==0.1.7) (2.4.1)\n",
            "Requirement already satisfied: numpy>=1.8.0 in /usr/local/lib/python3.6/dist-packages (from kapre==0.1.7) (1.19.5)\n",
            "Requirement already satisfied: pooch>=1.0 in /usr/local/lib/python3.6/dist-packages (from librosa>=0.5->kapre==0.1.7) (1.3.0)\n",
            "Requirement already satisfied: scikit-learn!=0.19.0,>=0.14.0 in /usr/local/lib/python3.6/dist-packages (from librosa>=0.5->kapre==0.1.7) (0.22.2.post1)\n",
            "Requirement already satisfied: joblib>=0.14 in /usr/local/lib/python3.6/dist-packages (from librosa>=0.5->kapre==0.1.7) (1.0.0)\n",
            "Requirement already satisfied: scipy>=1.0.0 in /usr/local/lib/python3.6/dist-packages (from librosa>=0.5->kapre==0.1.7) (1.4.1)\n",
            "Requirement already satisfied: resampy>=0.2.2 in /usr/local/lib/python3.6/dist-packages (from librosa>=0.5->kapre==0.1.7) (0.2.2)\n",
            "Requirement already satisfied: decorator>=3.0.0 in /usr/local/lib/python3.6/dist-packages (from librosa>=0.5->kapre==0.1.7) (4.4.2)\n",
            "Requirement already satisfied: numba>=0.43.0 in /usr/local/lib/python3.6/dist-packages (from librosa>=0.5->kapre==0.1.7) (0.51.2)\n",
            "Requirement already satisfied: audioread>=2.0.0 in /usr/local/lib/python3.6/dist-packages (from librosa>=0.5->kapre==0.1.7) (2.1.9)\n",
            "Requirement already satisfied: soundfile>=0.9.0 in /usr/local/lib/python3.6/dist-packages (from librosa>=0.5->kapre==0.1.7) (0.10.3.post1)\n",
            "Requirement already satisfied: protobuf>=3.9.2 in /usr/local/lib/python3.6/dist-packages (from tensorflow>=1.15->kapre==0.1.7) (3.12.4)\n",
            "Requirement already satisfied: absl-py~=0.10 in /usr/local/lib/python3.6/dist-packages (from tensorflow>=1.15->kapre==0.1.7) (0.10.0)\n",
            "Requirement already satisfied: termcolor~=1.1.0 in /usr/local/lib/python3.6/dist-packages (from tensorflow>=1.15->kapre==0.1.7) (1.1.0)\n",
            "Requirement already satisfied: wheel~=0.35 in /usr/local/lib/python3.6/dist-packages (from tensorflow>=1.15->kapre==0.1.7) (0.36.2)\n",
            "Requirement already satisfied: tensorboard~=2.4 in /usr/local/lib/python3.6/dist-packages (from tensorflow>=1.15->kapre==0.1.7) (2.4.1)\n",
            "Requirement already satisfied: h5py~=2.10.0 in /usr/local/lib/python3.6/dist-packages (from tensorflow>=1.15->kapre==0.1.7) (2.10.0)\n",
            "Requirement already satisfied: keras-preprocessing~=1.1.2 in /usr/local/lib/python3.6/dist-packages (from tensorflow>=1.15->kapre==0.1.7) (1.1.2)\n",
            "Requirement already satisfied: wrapt~=1.12.1 in /usr/local/lib/python3.6/dist-packages (from tensorflow>=1.15->kapre==0.1.7) (1.12.1)\n",
            "Requirement already satisfied: tensorflow-estimator<2.5.0,>=2.4.0 in /usr/local/lib/python3.6/dist-packages (from tensorflow>=1.15->kapre==0.1.7) (2.4.0)\n",
            "Requirement already satisfied: opt-einsum~=3.3.0 in /usr/local/lib/python3.6/dist-packages (from tensorflow>=1.15->kapre==0.1.7) (3.3.0)\n",
            "Requirement already satisfied: grpcio~=1.32.0 in /usr/local/lib/python3.6/dist-packages (from tensorflow>=1.15->kapre==0.1.7) (1.32.0)\n",
            "Requirement already satisfied: six~=1.15.0 in /usr/local/lib/python3.6/dist-packages (from tensorflow>=1.15->kapre==0.1.7) (1.15.0)\n",
            "Requirement already satisfied: typing-extensions~=3.7.4 in /usr/local/lib/python3.6/dist-packages (from tensorflow>=1.15->kapre==0.1.7) (3.7.4.3)\n",
            "Requirement already satisfied: astunparse~=1.6.3 in /usr/local/lib/python3.6/dist-packages (from tensorflow>=1.15->kapre==0.1.7) (1.6.3)\n",
            "Requirement already satisfied: google-pasta~=0.2 in /usr/local/lib/python3.6/dist-packages (from tensorflow>=1.15->kapre==0.1.7) (0.2.0)\n",
            "Requirement already satisfied: flatbuffers~=1.12.0 in /usr/local/lib/python3.6/dist-packages (from tensorflow>=1.15->kapre==0.1.7) (1.12)\n",
            "Requirement already satisfied: gast==0.3.3 in /usr/local/lib/python3.6/dist-packages (from tensorflow>=1.15->kapre==0.1.7) (0.3.3)\n",
            "Requirement already satisfied: appdirs in /usr/local/lib/python3.6/dist-packages (from pooch>=1.0->librosa>=0.5->kapre==0.1.7) (1.4.4)\n",
            "Requirement already satisfied: requests in /usr/local/lib/python3.6/dist-packages (from pooch>=1.0->librosa>=0.5->kapre==0.1.7) (2.23.0)\n",
            "Requirement already satisfied: packaging in /usr/local/lib/python3.6/dist-packages (from pooch>=1.0->librosa>=0.5->kapre==0.1.7) (20.8)\n",
            "Requirement already satisfied: setuptools in /usr/local/lib/python3.6/dist-packages (from numba>=0.43.0->librosa>=0.5->kapre==0.1.7) (53.0.0)\n",
            "Requirement already satisfied: llvmlite<0.35,>=0.34.0.dev0 in /usr/local/lib/python3.6/dist-packages (from numba>=0.43.0->librosa>=0.5->kapre==0.1.7) (0.34.0)\n",
            "Requirement already satisfied: cffi>=1.0 in /usr/local/lib/python3.6/dist-packages (from soundfile>=0.9.0->librosa>=0.5->kapre==0.1.7) (1.14.4)\n",
            "Requirement already satisfied: google-auth<2,>=1.6.3 in /usr/local/lib/python3.6/dist-packages (from tensorboard~=2.4->tensorflow>=1.15->kapre==0.1.7) (1.24.0)\n",
            "Requirement already satisfied: werkzeug>=0.11.15 in /usr/local/lib/python3.6/dist-packages (from tensorboard~=2.4->tensorflow>=1.15->kapre==0.1.7) (1.0.1)\n",
            "Requirement already satisfied: google-auth-oauthlib<0.5,>=0.4.1 in /usr/local/lib/python3.6/dist-packages (from tensorboard~=2.4->tensorflow>=1.15->kapre==0.1.7) (0.4.2)\n",
            "Requirement already satisfied: markdown>=2.6.8 in /usr/local/lib/python3.6/dist-packages (from tensorboard~=2.4->tensorflow>=1.15->kapre==0.1.7) (3.3.3)\n",
            "Requirement already satisfied: tensorboard-plugin-wit>=1.6.0 in /usr/local/lib/python3.6/dist-packages (from tensorboard~=2.4->tensorflow>=1.15->kapre==0.1.7) (1.8.0)\n",
            "Requirement already satisfied: urllib3!=1.25.0,!=1.25.1,<1.26,>=1.21.1 in /usr/local/lib/python3.6/dist-packages (from requests->pooch>=1.0->librosa>=0.5->kapre==0.1.7) (1.24.3)\n",
            "Requirement already satisfied: chardet<4,>=3.0.2 in /usr/local/lib/python3.6/dist-packages (from requests->pooch>=1.0->librosa>=0.5->kapre==0.1.7) (3.0.4)\n",
            "Requirement already satisfied: certifi>=2017.4.17 in /usr/local/lib/python3.6/dist-packages (from requests->pooch>=1.0->librosa>=0.5->kapre==0.1.7) (2020.12.5)\n",
            "Requirement already satisfied: idna<3,>=2.5 in /usr/local/lib/python3.6/dist-packages (from requests->pooch>=1.0->librosa>=0.5->kapre==0.1.7) (2.10)\n",
            "Requirement already satisfied: pyparsing>=2.0.2 in /usr/local/lib/python3.6/dist-packages (from packaging->pooch>=1.0->librosa>=0.5->kapre==0.1.7) (2.4.7)\n",
            "Requirement already satisfied: pycparser in /usr/local/lib/python3.6/dist-packages (from cffi>=1.0->soundfile>=0.9.0->librosa>=0.5->kapre==0.1.7) (2.20)\n",
            "Requirement already satisfied: rsa<5,>=3.1.4; python_version >= \"3.6\" in /usr/local/lib/python3.6/dist-packages (from google-auth<2,>=1.6.3->tensorboard~=2.4->tensorflow>=1.15->kapre==0.1.7) (4.7)\n",
            "Requirement already satisfied: pyasn1-modules>=0.2.1 in /usr/local/lib/python3.6/dist-packages (from google-auth<2,>=1.6.3->tensorboard~=2.4->tensorflow>=1.15->kapre==0.1.7) (0.2.8)\n",
            "Requirement already satisfied: cachetools<5.0,>=2.0.0 in /usr/local/lib/python3.6/dist-packages (from google-auth<2,>=1.6.3->tensorboard~=2.4->tensorflow>=1.15->kapre==0.1.7) (4.2.1)\n",
            "Requirement already satisfied: requests-oauthlib>=0.7.0 in /usr/local/lib/python3.6/dist-packages (from google-auth-oauthlib<0.5,>=0.4.1->tensorboard~=2.4->tensorflow>=1.15->kapre==0.1.7) (1.3.0)\n",
            "Requirement already satisfied: importlib-metadata; python_version < \"3.8\" in /usr/local/lib/python3.6/dist-packages (from markdown>=2.6.8->tensorboard~=2.4->tensorflow>=1.15->kapre==0.1.7) (3.4.0)\n",
            "Requirement already satisfied: pyasn1>=0.1.3 in /usr/local/lib/python3.6/dist-packages (from rsa<5,>=3.1.4; python_version >= \"3.6\"->google-auth<2,>=1.6.3->tensorboard~=2.4->tensorflow>=1.15->kapre==0.1.7) (0.4.8)\n",
            "Requirement already satisfied: oauthlib>=3.0.0 in /usr/local/lib/python3.6/dist-packages (from requests-oauthlib>=0.7.0->google-auth-oauthlib<0.5,>=0.4.1->tensorboard~=2.4->tensorflow>=1.15->kapre==0.1.7) (3.1.0)\n",
            "Requirement already satisfied: zipp>=0.5 in /usr/local/lib/python3.6/dist-packages (from importlib-metadata; python_version < \"3.8\"->markdown>=2.6.8->tensorboard~=2.4->tensorflow>=1.15->kapre==0.1.7) (3.4.0)\n",
            "Requirement already satisfied: soundfile in /usr/local/lib/python3.6/dist-packages (0.10.3.post1)\n",
            "Requirement already satisfied: cffi>=1.0 in /usr/local/lib/python3.6/dist-packages (from soundfile) (1.14.4)\n",
            "Requirement already satisfied: pycparser in /usr/local/lib/python3.6/dist-packages (from cffi>=1.0->soundfile) (2.20)\n",
            "Collecting ffmpeg-python\n",
            "  Downloading https://files.pythonhosted.org/packages/d7/0c/56be52741f75bad4dc6555991fabd2e07b432d333da82c11ad701123888a/ffmpeg_python-0.2.0-py3-none-any.whl\n",
            "Requirement already satisfied: future in /usr/local/lib/python3.6/dist-packages (from ffmpeg-python) (0.16.0)\n",
            "Installing collected packages: ffmpeg-python\n",
            "Successfully installed ffmpeg-python-0.2.0\n"
          ],
          "name": "stdout"
        }
      ]
    },
    {
      "cell_type": "code",
      "metadata": {
        "id": "aO6wf5nK9_Pn",
        "colab": {
          "base_uri": "https://localhost:8080/"
        },
        "outputId": "a91092d5-5039-4a76-a7e0-a7867056c228"
      },
      "source": [
        "from google.colab import drive\n",
        "drive.mount('/content/drive')"
      ],
      "execution_count": 14,
      "outputs": [
        {
          "output_type": "stream",
          "text": [
            "Drive already mounted at /content/drive; to attempt to forcibly remount, call drive.mount(\"/content/drive\", force_remount=True).\n"
          ],
          "name": "stdout"
        }
      ]
    },
    {
      "cell_type": "code",
      "metadata": {
        "id": "ZiFZQ-l69NuV"
      },
      "source": [
        "import os\n",
        "import numpy as np\n",
        "import kapre\n",
        "import librosa\n",
        "import random\n",
        "import tensorflow as tf\n",
        "import soundfile as sf\n",
        "from tensorflow.keras import layers as L\n",
        "from tensorflow.keras.models import Sequential,Model\n",
        "from kapre.time_frequency import Melspectrogram\n",
        "from kapre.utils import Normalization2D\n",
        "from tensorflow.keras import backend as K\n",
        "from sklearn.model_selection import train_test_split"
      ],
      "execution_count": 15,
      "outputs": []
    },
    {
      "cell_type": "markdown",
      "metadata": {
        "id": "19F6-jMI9RUn"
      },
      "source": [
        "# Generate data"
      ]
    },
    {
      "cell_type": "code",
      "metadata": {
        "id": "5wLqc3oPC76v",
        "colab": {
          "base_uri": "https://localhost:8080/"
        },
        "outputId": "87af4ef0-e351-474a-cb9b-4342c2711a15"
      },
      "source": [
        "data_dir = '/content/drive/MyDrive/voice/'\n",
        "os.chdir(data_dir)\n",
        "\n",
        "data_x = []\n",
        "data_y = []\n",
        "for a,i in enumerate(['Back','forward','left','right','stop']):\n",
        "    lis = os.listdir(data_dir+i)\n",
        "    for j in lis:\n",
        "        l,sr = sf.read(data_dir+i+'/'+j)\n",
        "        #print(len(l))\n",
        "        #if(len(l)>=8000):\n",
        "        data_x.append(l[0:8000])\n",
        "        data_y.append(a)\n",
        "        #else:\n",
        "        #    print(i)\n",
        "    print(i,\" Done\")\n",
        "\n",
        "data_x = np.array(data_x)\n",
        "data_y = np.array(data_y)\n",
        "\n",
        "\n",
        "np.save('x.npy',data_x)\n",
        "np.save('y.npy',data_y)"
      ],
      "execution_count": 16,
      "outputs": [
        {
          "output_type": "stream",
          "text": [
            "Back  Done\n",
            "forward  Done\n",
            "left  Done\n",
            "right  Done\n",
            "stop  Done\n"
          ],
          "name": "stdout"
        },
        {
          "output_type": "stream",
          "text": [
            "/usr/local/lib/python3.6/dist-packages/ipykernel_launcher.py:18: VisibleDeprecationWarning: Creating an ndarray from ragged nested sequences (which is a list-or-tuple of lists-or-tuples-or ndarrays with different lengths or shapes) is deprecated. If you meant to do this, you must specify 'dtype=object' when creating the ndarray\n"
          ],
          "name": "stderr"
        }
      ]
    },
    {
      "cell_type": "markdown",
      "metadata": {
        "id": "zJ6iEPOQmnmx"
      },
      "source": [
        "# Splitting data into Train and Test"
      ]
    },
    {
      "cell_type": "code",
      "metadata": {
        "id": "qIuydKQt9gJm"
      },
      "source": [
        "from sklearn.model_selection import train_test_split\n",
        "import numpy as np\n",
        "np_load_old = np.load\n",
        "\n",
        "np.load = lambda *a,**k: np_load_old(*a, allow_pickle=True, **k)\n",
        "\n",
        "data_x = np.load('x.npy')\n",
        "data_y = np.load('y.npy')\n",
        "tr_x,te_x, tr_y,te_y = train_test_split(data_x,data_y,stratify=data_y,random_state=123,test_size=0.2)\n",
        "np.load = np_load_old"
      ],
      "execution_count": 17,
      "outputs": []
    },
    {
      "cell_type": "code",
      "metadata": {
        "id": "NZrT1E4Vl4A0",
        "colab": {
          "base_uri": "https://localhost:8080/"
        },
        "outputId": "cbe2c96b-f2b3-4c8c-9e88-35a18e28c8da"
      },
      "source": [
        "data_x.shape"
      ],
      "execution_count": 18,
      "outputs": [
        {
          "output_type": "execute_result",
          "data": {
            "text/plain": [
              "(400,)"
            ]
          },
          "metadata": {
            "tags": []
          },
          "execution_count": 18
        }
      ]
    },
    {
      "cell_type": "code",
      "metadata": {
        "id": "vGDq556K9jvh"
      },
      "source": [
        "x_train = []\n",
        "y_train = []\n",
        "for i,j in enumerate(tr_x):\n",
        "    x= len(j)\n",
        "    p = 25000-x\n",
        "    for y in range(1 ,p, 500):\n",
        "        nx = np.zeros(25000)\n",
        "        nx[y:y+x] =j\n",
        "        x_train.append(nx)\n",
        "        y_train.append(tr_y[i])\n",
        "x_train = np.array(x_train)\n",
        "y_train = np.array(y_train)\n",
        "\n",
        "x_test = []\n",
        "y_test = []\n",
        "for i,j in enumerate(te_x):\n",
        "    x= len(j)\n",
        "    p = 25000-x\n",
        "    for y in range(1 ,p, 500):\n",
        "        nx = np.zeros(25000)\n",
        "        nx[y:y+x] =j\n",
        "        x_test.append(nx)\n",
        "        y_test.append(te_y[i])\n",
        "x_test = np.array(x_test)\n",
        "y_test = np.array(y_test)\n",
        "\n",
        "np.save('x_train.npy',x_train)\n",
        "np.save('y_train.npy',y_train)\n",
        "np.save('x_test.npy',x_test)\n",
        "np.save('y_test.npy',y_test)"
      ],
      "execution_count": 19,
      "outputs": []
    },
    {
      "cell_type": "markdown",
      "metadata": {
        "id": "NMkAeCdz9zfb"
      },
      "source": [
        "# Extract Features"
      ]
    },
    {
      "cell_type": "code",
      "metadata": {
        "id": "iliXCwWk9w_C"
      },
      "source": [
        "mfcc = Sequential()\n",
        "mfcc.add(L.Reshape((1, -1)))\n",
        "mfcc.add(Melspectrogram(padding='same', sr=16000, n_mels=39, n_dft = 1024,\n",
        "                        power_melgram=2.0, return_decibel_melgram=True,\n",
        "                        trainable_fb=False, trainable_kernel=False,\n",
        "                        name='mel_stft'))\n",
        "mfcc.add(Normalization2D(str_axis='freq'))\n",
        "mfcc.add(L.Permute((2, 1, 3)))\n",
        "\n",
        "x_train = mfcc.predict(x_train)\n",
        "x_train.shape\n",
        "\n",
        "x_test = mfcc.predict(x_test)\n",
        "x_test.shape\n",
        "\n",
        "np.save('mfcc_train.npy',x_train)\n",
        "np.save('mfcc_test.npy',x_test)"
      ],
      "execution_count": 20,
      "outputs": []
    },
    {
      "cell_type": "markdown",
      "metadata": {
        "id": "YBXWnYPd9nRh"
      },
      "source": [
        "# Loading data"
      ]
    },
    {
      "cell_type": "code",
      "metadata": {
        "id": "w4MDYtrH9pnA"
      },
      "source": [
        "# Change the directory \n",
        "data_dir = '/content/drive/MyDrive/voice'\n",
        "os.chdir(data_dir)\n",
        "x_train = np.load('mfcc_train.npy')\n",
        "y_train = np.load('y_train.npy')\n",
        "x_test = np.load('mfcc_test.npy')\n",
        "y_test = np.load('y_test.npy')"
      ],
      "execution_count": 21,
      "outputs": []
    },
    {
      "cell_type": "markdown",
      "metadata": {
        "id": "xpKZzwTB9-hD"
      },
      "source": [
        "# Model"
      ]
    },
    {
      "cell_type": "code",
      "metadata": {
        "id": "E0J9Xu9uQv5H"
      },
      "source": [
        "# https://github.com/douglas125/SpeechCmdRecognition/blob/master/SpeechModels.py\n",
        "\n",
        "os.environ['PYTHONHASHSEED']='123'\n",
        "np.random.seed(123)\n",
        "random.seed(123)\n",
        "tf.random.set_seed(123)\n",
        "\n",
        "def AttentionModel(sr=16000, iLen=25000):\n",
        "    \n",
        "    inputs = L.Input(x_train.shape[1:], name='Input')\n",
        "\n",
        "    x = L.Conv2D(10, (5, 1), activation='relu', padding='same', name='Conv1')(inputs)\n",
        "    x = L.BatchNormalization(name='BN1')(x)\n",
        "    x = L.Conv2D(1, (5, 1), activation='relu', padding='same', name='Conv2')(x)\n",
        "    x = L.BatchNormalization(name='BN2')(x)\n",
        "\n",
        "    x = L.Reshape(x.shape[1:-1],name='Squeeze')(x)\n",
        "\n",
        "    n_units = 64\n",
        "    x = L.LSTM(n_units, return_sequences=True, name='LSTM_Sequences')(x)  \n",
        "\n",
        "    # Calculate Unit Importance\n",
        "    xLast = L.Lambda(lambda q: q[:, -1], name='FinalSequence')(x)  # [b_s, vec_dim]\n",
        "    xLast = L.Dense(xLast.shape[-1], name='UnitImportance')(xLast)\n",
        "\n",
        "    # Calculate attention\n",
        "    attScores = L.Dot(axes=[1, 2],name='AttentionScores')([xLast, x])\n",
        "    attScores = L.Softmax(name='AttentionSoftmax')(attScores)  \n",
        "\n",
        "    x = L.Dot(axes=[1, 1], name='AttentionVector')([attScores, x])  \n",
        "    x = L.Dense(32, activation='relu', name='FC')(x)\n",
        "    outputs = L.Dense(5, activation='softmax', name='Output')(x)\n",
        "    model = Model(inputs=[inputs], outputs=[outputs], name='Attention')\n",
        "\n",
        "    return model\n",
        "\n",
        "model = AttentionModel()\n",
        "model.compile(optimizer=tf.keras.optimizers.Adam(), loss=['sparse_categorical_crossentropy'], metrics=['sparse_categorical_accuracy'])"
      ],
      "execution_count": 22,
      "outputs": []
    },
    {
      "cell_type": "code",
      "metadata": {
        "id": "ocATdYnyvPgQ",
        "colab": {
          "base_uri": "https://localhost:8080/"
        },
        "outputId": "5ee2e32a-a3fd-41ea-a92b-f1b595252b09"
      },
      "source": [
        "model.summary()"
      ],
      "execution_count": 23,
      "outputs": [
        {
          "output_type": "stream",
          "text": [
            "Model: \"Attention\"\n",
            "__________________________________________________________________________________________________\n",
            "Layer (type)                    Output Shape         Param #     Connected to                     \n",
            "==================================================================================================\n",
            "Input (InputLayer)              [(None, 49, 39, 1)]  0                                            \n",
            "__________________________________________________________________________________________________\n",
            "Conv1 (Conv2D)                  (None, 49, 39, 10)   60          Input[0][0]                      \n",
            "__________________________________________________________________________________________________\n",
            "BN1 (BatchNormalization)        (None, 49, 39, 10)   40          Conv1[0][0]                      \n",
            "__________________________________________________________________________________________________\n",
            "Conv2 (Conv2D)                  (None, 49, 39, 1)    51          BN1[0][0]                        \n",
            "__________________________________________________________________________________________________\n",
            "BN2 (BatchNormalization)        (None, 49, 39, 1)    4           Conv2[0][0]                      \n",
            "__________________________________________________________________________________________________\n",
            "Squeeze (Reshape)               (None, 49, 39)       0           BN2[0][0]                        \n",
            "__________________________________________________________________________________________________\n",
            "LSTM_Sequences (LSTM)           (None, 49, 64)       26624       Squeeze[0][0]                    \n",
            "__________________________________________________________________________________________________\n",
            "FinalSequence (Lambda)          (None, 64)           0           LSTM_Sequences[0][0]             \n",
            "__________________________________________________________________________________________________\n",
            "UnitImportance (Dense)          (None, 64)           4160        FinalSequence[0][0]              \n",
            "__________________________________________________________________________________________________\n",
            "AttentionScores (Dot)           (None, 49)           0           UnitImportance[0][0]             \n",
            "                                                                 LSTM_Sequences[0][0]             \n",
            "__________________________________________________________________________________________________\n",
            "AttentionSoftmax (Softmax)      (None, 49)           0           AttentionScores[0][0]            \n",
            "__________________________________________________________________________________________________\n",
            "AttentionVector (Dot)           (None, 64)           0           AttentionSoftmax[0][0]           \n",
            "                                                                 LSTM_Sequences[0][0]             \n",
            "__________________________________________________________________________________________________\n",
            "FC (Dense)                      (None, 32)           2080        AttentionVector[0][0]            \n",
            "__________________________________________________________________________________________________\n",
            "Output (Dense)                  (None, 5)            165         FC[0][0]                         \n",
            "==================================================================================================\n",
            "Total params: 33,184\n",
            "Trainable params: 33,162\n",
            "Non-trainable params: 22\n",
            "__________________________________________________________________________________________________\n"
          ],
          "name": "stdout"
        }
      ]
    },
    {
      "cell_type": "markdown",
      "metadata": {
        "id": "JcO8GwG1-iI6"
      },
      "source": [
        "# Train Model"
      ]
    },
    {
      "cell_type": "code",
      "metadata": {
        "id": "76JMIwOXv8iu",
        "colab": {
          "base_uri": "https://localhost:8080/"
        },
        "outputId": "a008f59e-7c87-4635-eb4a-23f7f4469bde"
      },
      "source": [
        "#model.fit(x_train,y_train,validation_data=(x_test,y_test),verbose=1,epochs=5,shuffle=True,batch_size=15)\n",
        "model.fit(x_train,y_train,validation_data=(x_test,y_test),verbose=1,epochs=15,shuffle=True,batch_size=20)"
      ],
      "execution_count": 24,
      "outputs": [
        {
          "output_type": "stream",
          "text": [
            "Epoch 1/15\n",
            "584/584 [==============================] - 9s 9ms/step - loss: 0.4910 - sparse_categorical_accuracy: 0.8408 - val_loss: 0.0164 - val_sparse_categorical_accuracy: 0.9973\n",
            "Epoch 2/15\n",
            "584/584 [==============================] - 4s 7ms/step - loss: 0.0013 - sparse_categorical_accuracy: 0.9999 - val_loss: 0.0058 - val_sparse_categorical_accuracy: 0.9990\n",
            "Epoch 3/15\n",
            "584/584 [==============================] - 4s 7ms/step - loss: 3.0410e-04 - sparse_categorical_accuracy: 1.0000 - val_loss: 0.0033 - val_sparse_categorical_accuracy: 0.9993\n",
            "Epoch 4/15\n",
            "584/584 [==============================] - 4s 7ms/step - loss: 1.3356e-04 - sparse_categorical_accuracy: 1.0000 - val_loss: 0.0027 - val_sparse_categorical_accuracy: 0.9993\n",
            "Epoch 5/15\n",
            "584/584 [==============================] - 4s 7ms/step - loss: 7.2113e-05 - sparse_categorical_accuracy: 1.0000 - val_loss: 0.0015 - val_sparse_categorical_accuracy: 0.9993\n",
            "Epoch 6/15\n",
            "584/584 [==============================] - 4s 7ms/step - loss: 4.4533e-05 - sparse_categorical_accuracy: 1.0000 - val_loss: 0.0011 - val_sparse_categorical_accuracy: 1.0000\n",
            "Epoch 7/15\n",
            "584/584 [==============================] - 4s 6ms/step - loss: 2.7501e-05 - sparse_categorical_accuracy: 1.0000 - val_loss: 0.0012 - val_sparse_categorical_accuracy: 0.9997\n",
            "Epoch 8/15\n",
            "584/584 [==============================] - 4s 6ms/step - loss: 1.8669e-05 - sparse_categorical_accuracy: 1.0000 - val_loss: 0.0011 - val_sparse_categorical_accuracy: 0.9997\n",
            "Epoch 9/15\n",
            "584/584 [==============================] - 4s 6ms/step - loss: 1.2033e-05 - sparse_categorical_accuracy: 1.0000 - val_loss: 0.0022 - val_sparse_categorical_accuracy: 0.9993\n",
            "Epoch 10/15\n",
            "584/584 [==============================] - 4s 6ms/step - loss: 8.2402e-06 - sparse_categorical_accuracy: 1.0000 - val_loss: 0.0012 - val_sparse_categorical_accuracy: 0.9997\n",
            "Epoch 11/15\n",
            "584/584 [==============================] - 4s 6ms/step - loss: 5.5999e-06 - sparse_categorical_accuracy: 1.0000 - val_loss: 0.0019 - val_sparse_categorical_accuracy: 0.9993\n",
            "Epoch 12/15\n",
            "584/584 [==============================] - 4s 6ms/step - loss: 4.1447e-06 - sparse_categorical_accuracy: 1.0000 - val_loss: 0.0024 - val_sparse_categorical_accuracy: 0.9993\n",
            "Epoch 13/15\n",
            "584/584 [==============================] - 4s 6ms/step - loss: 2.8772e-06 - sparse_categorical_accuracy: 1.0000 - val_loss: 0.0011 - val_sparse_categorical_accuracy: 0.9993\n",
            "Epoch 14/15\n",
            "584/584 [==============================] - 4s 6ms/step - loss: 2.0741e-06 - sparse_categorical_accuracy: 1.0000 - val_loss: 0.0016 - val_sparse_categorical_accuracy: 0.9993\n",
            "Epoch 15/15\n",
            "584/584 [==============================] - 4s 6ms/step - loss: 1.4486e-06 - sparse_categorical_accuracy: 1.0000 - val_loss: 0.0024 - val_sparse_categorical_accuracy: 0.9993\n"
          ],
          "name": "stdout"
        },
        {
          "output_type": "execute_result",
          "data": {
            "text/plain": [
              "<tensorflow.python.keras.callbacks.History at 0x7fefd029f6d8>"
            ]
          },
          "metadata": {
            "tags": []
          },
          "execution_count": 24
        }
      ]
    },
    {
      "cell_type": "markdown",
      "metadata": {
        "id": "783GkaEy_DHP"
      },
      "source": [
        "# Check attention"
      ]
    },
    {
      "cell_type": "code",
      "metadata": {
        "id": "9XFFu3TQCeic",
        "colab": {
          "base_uri": "https://localhost:8080/",
          "height": 1000
        },
        "outputId": "8bd5cc91-b395-4465-edfd-1c6dbe2e1738"
      },
      "source": [
        "from matplotlib import pyplot as plt\n",
        "model2 = Model(inputs=model.input, outputs=[model.get_layer('Output').output, \n",
        "                                            model.get_layer('AttentionSoftmax').output])\n",
        "data_dir = '/content/drive/MyDrive/voice'\n",
        "os.chdir(data_dir)\n",
        "a,b = model2.predict(x_test)\n",
        "xx_test = np.load('x_test.npy')\n",
        "for aid in range(0,100,18):\n",
        "    plt.plot(range(len(b[aid])), np.log(b[aid]))\n",
        "    plt.show()\n",
        "    plt.plot(range(len(xx_test[aid])),xx_test[aid])\n",
        "    plt.show()"
      ],
      "execution_count": 25,
      "outputs": [
        {
          "output_type": "display_data",
          "data": {
            "image/png": "[encoded data removed]",
            "text/plain": [
              "<Figure size 432x288 with 1 Axes>"
            ]
          },
          "metadata": {
            "tags": [],
            "needs_background": "light"
          }
        },
        {
          "output_type": "display_data",
          "data": {
            "image/png": "[encoded data removed]",
            "text/plain": [
              "<Figure size 432x288 with 1 Axes>"
            ]
          },
          "metadata": {
            "tags": [],
            "needs_background": "light"
          }
        },
        {
          "output_type": "display_data",
          "data": {
            "image/png": "[encoded data removed]",
            "text/plain": [
              "<Figure size 432x288 with 1 Axes>"
            ]
          },
          "metadata": {
            "tags": [],
            "needs_background": "light"
          }
        },
        {
          "output_type": "display_data",
          "data": {
            "image/png": "[encoded data removed]",
            "text/plain": [
              "<Figure size 432x288 with 1 Axes>"
            ]
          },
          "metadata": {
            "tags": [],
            "needs_background": "light"
          }
        },
        {
          "output_type": "display_data",
          "data": {
            "image/png": "[encoded data removed]",
            "text/plain": [
              "<Figure size 432x288 with 1 Axes>"
            ]
          },
          "metadata": {
            "tags": [],
            "needs_background": "light"
          }
        },
        {
          "output_type": "display_data",
          "data": {
            "image/png": "[encoded data removed]",
            "text/plain": [
              "<Figure size 432x288 with 1 Axes>"
            ]
          },
          "metadata": {
            "tags": [],
            "needs_background": "light"
          }
        },
        {
          "output_type": "display_data",
          "data": {
            "image/png": "[encoded data removed]",
            "text/plain": [
              "<Figure size 432x288 with 1 Axes>"
            ]
          },
          "metadata": {
            "tags": [],
            "needs_background": "light"
          }
        },
        {
          "output_type": "display_data",
          "data": {
            "image/png": "[encoded data removed]",
            "text/plain": [
              "<Figure size 432x288 with 1 Axes>"
            ]
          },
          "metadata": {
            "tags": [],
            "needs_background": "light"
          }
        },
        {
          "output_type": "display_data",
          "data": {
            "image/png": "[encoded data removed]",
            "text/plain": [
              "<Figure size 432x288 with 1 Axes>"
            ]
          },
          "metadata": {
            "tags": [],
            "needs_background": "light"
          }
        },
        {
          "output_type": "display_data",
          "data": {
            "image/png": "[encoded data removed]",
            "text/plain": [
              "<Figure size 432x288 with 1 Axes>"
            ]
          },
          "metadata": {
            "tags": [],
            "needs_background": "light"
          }
        },
        {
          "output_type": "display_data",
          "data": {
            "image/png": "[encoded data removed]",
            "text/plain": [
              "<Figure size 432x288 with 1 Axes>"
            ]
          },
          "metadata": {
            "tags": [],
            "needs_background": "light"
          }
        },
        {
          "output_type": "display_data",
          "data": {
            "image/png": "[encoded data removed]",
            "text/plain": [
              "<Figure size 432x288 with 1 Axes>"
            ]
          },
          "metadata": {
            "tags": [],
            "needs_background": "light"
          }
        }
      ]
    },
    {
      "cell_type": "markdown",
      "metadata": {
        "id": "x4EU63QJnZZ9"
      },
      "source": [
        "**SAVE MODEL**\r\n",
        "\r\n"
      ]
    },
    {
      "cell_type": "markdown",
      "metadata": {
        "id": "xk9u9Y-onZPk"
      },
      "source": [
        ""
      ]
    },
    {
      "cell_type": "code",
      "metadata": {
        "id": "TyTFDOv5mxKA"
      },
      "source": [
        "data_dir = '/content/drive/MyDrive/voice'\r\n",
        "os.chdir(data_dir)\r\n",
        "model.save('model.h5')"
      ],
      "execution_count": 27,
      "outputs": []
    },
    {
      "cell_type": "markdown",
      "metadata": {
        "id": "W4F3BclFo5uK"
      },
      "source": [
        "**TEST MODEL**"
      ]
    },
    {
      "cell_type": "code",
      "metadata": {
        "id": "mO5PoURnol_Z"
      },
      "source": [
        "# all imports\r\n",
        "from IPython.display import Javascript\r\n",
        "from google.colab import output\r\n",
        "from base64 import b64decode\r\n",
        "import ffmpeg\r\n",
        " \r\n",
        "RECORD = \"\"\"\r\n",
        "const sleep  = time => new Promise(resolve => setTimeout(resolve, time))\r\n",
        "const b2text = blob => new Promise(resolve => {\r\n",
        "  const reader = new FileReader()\r\n",
        "  reader.onloadend = e => resolve(e.srcElement.result)\r\n",
        "  reader.readAsDataURL(blob)\r\n",
        "})\r\n",
        "var record = time => new Promise(async resolve => {\r\n",
        "  stream = await navigator.mediaDevices.getUserMedia({ audio: true })\r\n",
        "  recorder = new MediaRecorder(stream)\r\n",
        "  chunks = []\r\n",
        "  recorder.ondataavailable = e => chunks.push(e.data)\r\n",
        "  recorder.start()\r\n",
        "  await sleep(time)\r\n",
        "  recorder.onstop = async ()=>{\r\n",
        "    blob = new Blob(chunks)\r\n",
        "    text = await b2text(blob)\r\n",
        "    resolve(text)\r\n",
        "  }\r\n",
        "  recorder.stop()\r\n",
        "})\r\n",
        "\"\"\"\r\n",
        " \r\n",
        "def record(sec=1, path='audio.wav'):\r\n",
        "  display(Javascript(RECORD))\r\n",
        "  s = output.eval_js('record(%d)' % (sec*1000))\r\n",
        "  b = b64decode(s.split(',')[1])\r\n",
        "  process = (ffmpeg\r\n",
        "    .input('pipe:0')\r\n",
        "    .output(path, format='wav', ac=1, ar=16000)\r\n",
        "    .run_async(pipe_stdin=True, pipe_stdout=True, pipe_stderr=True, quiet=True, overwrite_output=True)\r\n",
        "  )\r\n",
        "  process.communicate(input=b)"
      ],
      "execution_count": 30,
      "outputs": []
    },
    {
      "cell_type": "markdown",
      "metadata": {
        "id": "wpmN9fdopJ5J"
      },
      "source": [
        "**Instructions:**\r\n",
        "\r\n",
        "**1.Locate the folder where you save your model.h5 file.**\r\n",
        "\r\n",
        "**2.Start speaking when you see mike in the bottom right pane** **of the task bar or see red blinking dot in the title bar.**\r\n",
        "\r\n",
        "**3. If still facing some error try to set the mike recorder****time in the previous record function up to 3 sec**\r\n",
        "\r\n"
      ]
    },
    {
      "cell_type": "code",
      "metadata": {
        "id": "oOdtkuEcpMGQ",
        "outputId": "38d73e81-1ea4-4506-a252-24d20dcacbd6",
        "colab": {
          "base_uri": "https://localhost:8080/",
          "height": 88
        }
      },
      "source": [
        "\r\n",
        "from tensorflow import keras\r\n",
        "import soundfile as sf\r\n",
        "import numpy as np\r\n",
        " \r\n",
        "rootPath = '/content/drive/MyDrive/voice'\r\n",
        "model = keras.models.load_model(rootPath + '/model.h5')\r\n",
        "record(path=rootPath + '/testfile.wav')\r\n",
        "l = sf.read(rootPath + '/testfile.wav')[0]\r\n",
        "l = l[0:16000]\r\n",
        "x = len(l)\r\n",
        "p = 25000-x\r\n",
        "nx = np.zeros(25000)\r\n",
        "for y in range(1 ,p, 500):\r\n",
        "    nx[y:y+x] = l\r\n",
        "nx = nx.reshape([1, len(nx)])\r\n",
        " \r\n",
        "mfcc = Sequential()\r\n",
        "mfcc.add(L.Reshape((1, -1)))\r\n",
        "mfcc.add(Melspectrogram(padding='same', sr=16000, n_mels=39, n_dft = 1024,\r\n",
        "                        power_melgram=2.0, return_decibel_melgram=True,\r\n",
        "                        trainable_fb=False, trainable_kernel=False,\r\n",
        "                        name='mel_stft'))\r\n",
        "mfcc.add(Normalization2D(str_axis='freq'))\r\n",
        "mfcc.add(L.Permute((2, 1, 3)))\r\n",
        " \r\n",
        "nx = mfcc.predict(nx)\r\n",
        " \r\n",
        "y = model.predict(nx)[0]\r\n",
        "y = np.argmax(y)\r\n",
        "words = ['forward','back', 'left', 'right', 'stop']\r\n",
        "print (words [y])"
      ],
      "execution_count": 135,
      "outputs": [
        {
          "output_type": "display_data",
          "data": {
            "application/javascript": [
              "\n",
              "const sleep  = time => new Promise(resolve => setTimeout(resolve, time))\n",
              "const b2text = blob => new Promise(resolve => {\n",
              "  const reader = new FileReader()\n",
              "  reader.onloadend = e => resolve(e.srcElement.result)\n",
              "  reader.readAsDataURL(blob)\n",
              "})\n",
              "var record = time => new Promise(async resolve => {\n",
              "  stream = await navigator.mediaDevices.getUserMedia({ audio: true })\n",
              "  recorder = new MediaRecorder(stream)\n",
              "  chunks = []\n",
              "  recorder.ondataavailable = e => chunks.push(e.data)\n",
              "  recorder.start()\n",
              "  await sleep(time)\n",
              "  recorder.onstop = async ()=>{\n",
              "    blob = new Blob(chunks)\n",
              "    text = await b2text(blob)\n",
              "    resolve(text)\n",
              "  }\n",
              "  recorder.stop()\n",
              "})\n"
            ],
            "text/plain": [
              "<IPython.core.display.Javascript object>"
            ]
          },
          "metadata": {
            "tags": []
          }
        },
        {
          "output_type": "stream",
          "text": [
            "WARNING:tensorflow:11 out of the last 11 calls to <function Model.make_predict_function.<locals>.predict_function at 0x7feec8aa8d90> triggered tf.function retracing. Tracing is expensive and the excessive number of tracings could be due to (1) creating @tf.function repeatedly in a loop, (2) passing tensors with different shapes, (3) passing Python objects instead of tensors. For (1), please define your @tf.function outside of the loop. For (2), @tf.function has experimental_relax_shapes=True option that relaxes argument shapes that can avoid unnecessary retracing. For (3), please refer to https://www.tensorflow.org/guide/function#controlling_retracing and https://www.tensorflow.org/api_docs/python/tf/function for  more details.\n",
            "WARNING:tensorflow:11 out of the last 11 calls to <function Model.make_predict_function.<locals>.predict_function at 0x7feec821dea0> triggered tf.function retracing. Tracing is expensive and the excessive number of tracings could be due to (1) creating @tf.function repeatedly in a loop, (2) passing tensors with different shapes, (3) passing Python objects instead of tensors. For (1), please define your @tf.function outside of the loop. For (2), @tf.function has experimental_relax_shapes=True option that relaxes argument shapes that can avoid unnecessary retracing. For (3), please refer to https://www.tensorflow.org/guide/function#controlling_retracing and https://www.tensorflow.org/api_docs/python/tf/function for  more details.\n",
            "left\n"
          ],
          "name": "stdout"
        }
      ]
    }
  ]
}